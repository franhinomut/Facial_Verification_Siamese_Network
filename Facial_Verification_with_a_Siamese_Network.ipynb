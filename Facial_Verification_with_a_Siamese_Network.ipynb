{
  "cells": [
    {
      "cell_type": "markdown",
      "metadata": {
        "id": "0wfgo9Akkq76"
      },
      "source": [
        "# Imports"
      ]
    },
    {
      "cell_type": "code",
      "execution_count": 243,
      "metadata": {
        "id": "YwUBZta4kq7_"
      },
      "outputs": [],
      "source": [
        "# Import standard dependencies\n",
        "import cv2\n",
        "import os\n",
        "import random\n",
        "import numpy as np\n",
        "from matplotlib import pyplot as plt"
      ]
    },
    {
      "cell_type": "code",
      "execution_count": 244,
      "metadata": {
        "id": "idZyQr5Akq7_"
      },
      "outputs": [],
      "source": [
        "# Import tensorflow dependencies - Functional API\n",
        "from tensorflow.keras.models import Model      # Model(Inputs = [inputImage , verificationImage] , outputs = [1,0])\n",
        "from tensorflow.keras.layers import Layer, Conv2D, Dense, MaxPooling2D, Input, Flatten     # Class LaDist(Layer)\n",
        "import tensorflow as tf"
      ]
    },
    {
      "cell_type": "markdown",
      "metadata": {
        "id": "2qMv0bgtkq7_"
      },
      "source": [
        "# Setups"
      ]
    },
    {
      "cell_type": "code",
      "execution_count": 245,
      "metadata": {
        "colab": {
          "base_uri": "https://localhost:8080/"
        },
        "id": "TSQW9Rbr-JKa",
        "outputId": "5fae64d1-9d96-4b49-d518-20cf2172e308"
      },
      "outputs": [
        {
          "name": "stdout",
          "output_type": "stream",
          "text": [
            "[]\n"
          ]
        },
        {
          "data": {
            "text/plain": [
              "0"
            ]
          },
          "execution_count": 245,
          "metadata": {},
          "output_type": "execute_result"
        }
      ],
      "source": [
        "# List gpus installed\n",
        "gpus = tf.config.experimental.list_physical_devices('GPU')\n",
        "print(gpus)\n",
        "len(gpus)"
      ]
    },
    {
      "cell_type": "code",
      "execution_count": 246,
      "metadata": {
        "id": "q5C9TXK_-QM-"
      },
      "outputs": [],
      "source": [
        "# Avoid OOM errors by setting GPU Memory Consumption Growth\n",
        "# Limit how much vram tensorflow can use on the gpu\n",
        "\n",
        "for gpu in gpus:\n",
        "    tf.config.experimental.set_memory_growth(gpu, True)"
      ]
    },
    {
      "cell_type": "markdown",
      "metadata": {
        "id": "pV90IKM6kq8A"
      },
      "source": [
        "# Folder Structures"
      ]
    },
    {
      "cell_type": "code",
      "execution_count": 247,
      "metadata": {
        "id": "_84-X1vtuso9"
      },
      "outputs": [],
      "source": [
        "# Cuando realizamos la identificación facial, pasaremos dos imágenes, una llamada anchor, que es la que queremos tratar, la imagen que estamos capturando en tiempo real\n",
        "# También pasaremos una imagen de verificación, una imagen positiva o negativa, con lo que le estaremos diciendo, nuestro anchor match la imagen potitiva\n",
        "# y no match la negativa"
      ]
    },
    {
      "cell_type": "code",
      "execution_count": 248,
      "metadata": {
        "id": "O4BLlkLUw4L0"
      },
      "outputs": [
        {
          "name": "stdout",
          "output_type": "stream",
          "text": [
            "El directorio 'data' ya existe en 'c:\\Users\\Usuario\\OneDrive\\Workplace\\Projects_2310\\Facial Verification with a Siamese Network'\n"
          ]
        }
      ],
      "source": [
        "dir_actual= os.getcwd()\n",
        "ruta_directorio = os.path.join(dir_actual, 'data')\n",
        "# Verificar si el directorio ya existe\n",
        "if not os.path.exists(ruta_directorio):\n",
        "    # Si no existe, crear el directorio\n",
        "    os.mkdir(ruta_directorio)\n",
        "    print(f\"Directorio 'data' creado en '{dir_actual}'\")\n",
        "else:\n",
        "    print(f\"El directorio 'data' ya existe en '{dir_actual}'\")"
      ]
    },
    {
      "cell_type": "code",
      "execution_count": 249,
      "metadata": {
        "id": "tqWE73sAkq8A"
      },
      "outputs": [],
      "source": [
        "# Setup paths\n",
        "POS_PATH = os.path.join(ruta_directorio, 'positive')\n",
        "NEG_PATH = os.path.join(ruta_directorio, 'negative')\n",
        "ANC_PATH = os.path.join(ruta_directorio, 'anchor')"
      ]
    },
    {
      "cell_type": "code",
      "execution_count": 250,
      "metadata": {
        "id": "YEa6OgPvkq8A"
      },
      "outputs": [],
      "source": [
        "# Make the directories\n",
        "if not os.path.exists(POS_PATH):\n",
        "    os.makedirs(POS_PATH)\n",
        "if not os.path.exists(NEG_PATH):\n",
        "    os.makedirs(NEG_PATH)\n",
        "if not os.path.exists(ANC_PATH):\n",
        "    os.makedirs(ANC_PATH)"
      ]
    },
    {
      "cell_type": "markdown",
      "metadata": {
        "id": "ZSB-BTPlkq8B"
      },
      "source": [
        "# Collect Positives and Anchors"
      ]
    },
    {
      "cell_type": "markdown",
      "metadata": {
        "id": "8c9p7EBCkq8B"
      },
      "source": [
        "## Wild Dataset"
      ]
    },
    {
      "cell_type": "code",
      "execution_count": 251,
      "metadata": {
        "id": "QdikCRQbkq8B"
      },
      "outputs": [],
      "source": [
        "# http://vis-www.cs.umass.edu/lfw/"
      ]
    },
    {
      "cell_type": "code",
      "execution_count": 252,
      "metadata": {
        "colab": {
          "base_uri": "https://localhost:8080/"
        },
        "id": "ApmT45YZkq8B",
        "outputId": "c7d44072-e79b-403e-e897-6f84415925c6"
      },
      "outputs": [],
      "source": [
        "# Uncompress Tar GZ Labelled Faces in the Wild Dataset\n",
        "!tar -xf lfw.tgz"
      ]
    },
    {
      "cell_type": "code",
      "execution_count": 253,
      "metadata": {
        "id": "MbfgqWlUkq8B"
      },
      "outputs": [],
      "source": [
        "# Move LFW Images to the following repository data/negative\n",
        "for directory in os.listdir('lfw'):\n",
        "    for file in os.listdir(os.path.join('lfw', directory)):\n",
        "        EX_PATH = os.path.join('lfw', directory, file)\n",
        "        NEW_PATH = os.path.join(NEG_PATH, file)\n",
        "        os.replace(EX_PATH, NEW_PATH)"
      ]
    },
    {
      "cell_type": "markdown",
      "metadata": {
        "id": "_njBtwBVkq8B"
      },
      "source": [
        "## Collect Positive and Anchor Classes"
      ]
    },
    {
      "cell_type": "code",
      "execution_count": 254,
      "metadata": {
        "id": "BjdepQQIkq8B"
      },
      "outputs": [],
      "source": [
        "# Import uuid library to generate unique image names\n",
        "import uuid"
      ]
    },
    {
      "cell_type": "code",
      "execution_count": 255,
      "metadata": {
        "id": "Lj6TMP1Mkq8C"
      },
      "outputs": [
        {
          "data": {
            "text/plain": [
              "'c:\\\\Users\\\\Usuario\\\\OneDrive\\\\Workplace\\\\Projects_2310\\\\Facial Verification with a Siamese Network\\\\data\\\\anchor\\\\8cf64d13-66a7-11ee-90fd-f889d28655b2.jpg'"
            ]
          },
          "execution_count": 255,
          "metadata": {},
          "output_type": "execute_result"
        }
      ],
      "source": [
        "os.path.join(ANC_PATH, '{}.jpg'.format(uuid.uuid1()))"
      ]
    },
    {
      "cell_type": "code",
      "execution_count": 256,
      "metadata": {
        "id": "8xTQczsakq8C"
      },
      "outputs": [],
      "source": [
        "# Establish a connection to the webcam\n",
        "cap = cv2.VideoCapture(0)\n",
        "while cap.isOpened():\n",
        "    ret, frame = cap.read()\n",
        "\n",
        "    # Cut down frame to 250x250px\n",
        "    frame = frame[120:120+250,200:200+250, :]\n",
        "\n",
        "    # Collect anchors\n",
        "    if cv2.waitKey(1) & 0XFF == ord('a'):\n",
        "        # Create the unique file path\n",
        "        imgname = os.path.join(ANC_PATH, '{}.jpg'.format(uuid.uuid1()))\n",
        "        # Write out anchor image\n",
        "        cv2.imwrite(imgname, frame)\n",
        "\n",
        "    # Collect positives\n",
        "    if cv2.waitKey(1) & 0XFF == ord('p'):\n",
        "        # Create the unique file path\n",
        "        imgname = os.path.join(POS_PATH, '{}.jpg'.format(uuid.uuid1()))\n",
        "        # Write out positive image\n",
        "        cv2.imwrite(imgname, frame)\n",
        "\n",
        "    # Show image back to screen\n",
        "    cv2.imshow('Image Collection', frame)\n",
        "\n",
        "    # Breaking gracefully\n",
        "    if cv2.waitKey(1) & 0XFF == ord('q'):\n",
        "        break\n",
        "\n",
        "# Release the webcam\n",
        "cap.release()\n",
        "# Close the image show frame\n",
        "cv2.destroyAllWindows()"
      ]
    },
    {
      "cell_type": "code",
      "execution_count": 257,
      "metadata": {
        "id": "szOAAytikq8C"
      },
      "outputs": [
        {
          "data": {
            "text/plain": [
              "<matplotlib.image.AxesImage at 0x2999c2dc210>"
            ]
          },
          "execution_count": 257,
          "metadata": {},
          "output_type": "execute_result"
        },
        {
          "data": {
            "image/png": "[encoded data removed]",
            "text/plain": [
              "<Figure size 640x480 with 1 Axes>"
            ]
          },
          "metadata": {},
          "output_type": "display_data"
        }
      ],
      "source": [
        "plt.imshow(frame[0:120+250,0:200+250, :])"
      ]
    },
    {
      "cell_type": "markdown",
      "metadata": {
        "id": "N2nwAsEIkq8C"
      },
      "source": [
        "# Data Augmentation"
      ]
    },
    {
      "cell_type": "code",
      "execution_count": 258,
      "metadata": {
        "id": "AcGZzkn1kq8C"
      },
      "outputs": [],
      "source": [
        "def data_aug(img):\n",
        "    data = []\n",
        "    for i in range(9):\n",
        "        img = tf.image.stateless_random_brightness(img, max_delta=0.02, seed=(1,2))\n",
        "        img = tf.image.stateless_random_contrast(img, lower=0.6, upper=1, seed=(1,3))\n",
        "        # img = tf.image.stateless_random_crop(img, size=(20,20,3), seed=(1,2))\n",
        "        img = tf.image.stateless_random_flip_left_right(img, seed=(np.random.randint(100),np.random.randint(100)))\n",
        "        img = tf.image.stateless_random_jpeg_quality(img, min_jpeg_quality=90, max_jpeg_quality=100, seed=(np.random.randint(100),np.random.randint(100)))\n",
        "        img = tf.image.stateless_random_saturation(img, lower=0.9,upper=1, seed=(np.random.randint(100),np.random.randint(100)))\n",
        "\n",
        "        data.append(img)\n",
        "\n",
        "    return data"
      ]
    },
    {
      "cell_type": "code",
      "execution_count": 259,
      "metadata": {
        "id": "xrvtFLMNkq8C"
      },
      "outputs": [],
      "source": [
        "img_path = os.path.join(ANC_PATH, '0381a0aa-668a-11ee-8fab-f889d28655b2.jpg')\n",
        "img = cv2.imread(img_path)\n",
        "augmented_images = data_aug(img)\n",
        "\n",
        "for image in augmented_images:\n",
        "    cv2.imwrite(os.path.join(ANC_PATH, '{}.jpg'.format(uuid.uuid1())), image.numpy())"
      ]
    },
    {
      "cell_type": "code",
      "execution_count": 260,
      "metadata": {
        "id": "lWAnsl2vkq8C",
        "tags": []
      },
      "outputs": [],
      "source": [
        "for file_name in os.listdir(os.path.join(POS_PATH)):\n",
        "    img_path = os.path.join(POS_PATH, file_name)\n",
        "    img = cv2.imread(img_path)\n",
        "    augmented_images = data_aug(img)\n",
        "\n",
        "    for image in augmented_images:\n",
        "        cv2.imwrite(os.path.join(POS_PATH, '{}.jpg'.format(uuid.uuid1())), image.numpy())"
      ]
    },
    {
      "cell_type": "markdown",
      "metadata": {
        "id": "dA7XJ1cEkq8C"
      },
      "source": [
        "# Load and Preprocess Images"
      ]
    },
    {
      "cell_type": "code",
      "execution_count": 261,
      "metadata": {
        "id": "QbECj1r8kq8C"
      },
      "outputs": [],
      "source": [
        "anchor = tf.data.Dataset.list_files(ANC_PATH+'\\*.jpg').take(3000)\n",
        "positive = tf.data.Dataset.list_files(POS_PATH+'\\*.jpg').take(3000)\n",
        "negative = tf.data.Dataset.list_files(NEG_PATH+'\\*.jpg').take(3000)"
      ]
    },
    {
      "cell_type": "code",
      "execution_count": 262,
      "metadata": {
        "id": "PFvD5ITzkq8D"
      },
      "outputs": [],
      "source": [
        "dir_test = anchor.as_numpy_iterator()"
      ]
    },
    {
      "cell_type": "code",
      "execution_count": 263,
      "metadata": {
        "id": "GOdm1mGMkq8D",
        "outputId": "3861ddf2-a773-440e-9969-e44ef7eac26b"
      },
      "outputs": [
        {
          "name": "stdout",
          "output_type": "stream",
          "text": [
            "b'c:\\\\Users\\\\Usuario\\\\OneDrive\\\\Workplace\\\\Projects_2310\\\\Facial Verification with a Siamese Network\\\\data\\\\anchor\\\\6fb80cb2-668a-11ee-a0fd-f889d28655b2.jpg'\n"
          ]
        }
      ],
      "source": [
        "print(dir_test.next())"
      ]
    },
    {
      "cell_type": "markdown",
      "metadata": {
        "id": "i5hBOT0Lkq8D"
      },
      "source": [
        "## Preprocessing - Scale and Resize"
      ]
    },
    {
      "cell_type": "code",
      "execution_count": 264,
      "metadata": {
        "id": "elvcZvXnkq8D"
      },
      "outputs": [],
      "source": [
        "def preprocess(file_path):\n",
        "\n",
        "    # Read in image from file path\n",
        "    byte_img = tf.io.read_file(file_path)\n",
        "    # Load in the image\n",
        "    img = tf.io.decode_jpeg(byte_img)\n",
        "\n",
        "    # Preprocessing steps - resizing the image to be 100x100x3\n",
        "    img = tf.image.resize(img, (100,100))\n",
        "    # Scale image to be between 0 and 1\n",
        "    img = img / 255.0\n",
        "\n",
        "    # Return image\n",
        "    return img"
      ]
    },
    {
      "cell_type": "code",
      "execution_count": 265,
      "metadata": {
        "id": "oZYyNN-rkq8D",
        "scrolled": true,
        "tags": []
      },
      "outputs": [],
      "source": [
        "img = preprocess('data\\\\anchor\\\\6fb6a9c7-668a-11ee-bd13-f889d28655b2.jpg')"
      ]
    },
    {
      "cell_type": "code",
      "execution_count": 266,
      "metadata": {},
      "outputs": [
        {
          "data": {
            "text/plain": [
              "<matplotlib.image.AxesImage at 0x299a8044f50>"
            ]
          },
          "execution_count": 266,
          "metadata": {},
          "output_type": "execute_result"
        },
        {
          "data": {
            "image/png": "[encoded data removed]",
            "text/plain": [
              "<Figure size 640x480 with 1 Axes>"
            ]
          },
          "metadata": {},
          "output_type": "display_data"
        }
      ],
      "source": [
        "plt.imshow(img)"
      ]
    },
    {
      "cell_type": "code",
      "execution_count": 267,
      "metadata": {
        "id": "ZnIylPc5kq8E",
        "outputId": "c3c74f2a-732a-479f-ca4c-51c052b9177e"
      },
      "outputs": [
        {
          "data": {
            "text/plain": [
              "0.9911765"
            ]
          },
          "execution_count": 267,
          "metadata": {},
          "output_type": "execute_result"
        }
      ],
      "source": [
        "img.numpy().max()"
      ]
    },
    {
      "cell_type": "markdown",
      "metadata": {
        "id": "KQBjGjN8kq8E"
      },
      "source": [
        "## Create Labelled Dataset"
      ]
    },
    {
      "cell_type": "code",
      "execution_count": 268,
      "metadata": {
        "id": "O0bFAkZukq8E"
      },
      "outputs": [],
      "source": [
        "# (anchor, positive) => 1,1,1,1,1\n",
        "# (anchor, negative) => 0,0,0,0,0"
      ]
    },
    {
      "cell_type": "code",
      "execution_count": 269,
      "metadata": {
        "id": "FJtYxXGWkq8E"
      },
      "outputs": [],
      "source": [
        "positives = tf.data.Dataset.zip((anchor, positive, tf.data.Dataset.from_tensor_slices(tf.ones(len(anchor)))))\n",
        "negatives = tf.data.Dataset.zip((anchor, negative, tf.data.Dataset.from_tensor_slices(tf.zeros(len(anchor)))))\n",
        "data = positives.concatenate(negatives)"
      ]
    },
    {
      "cell_type": "code",
      "execution_count": 270,
      "metadata": {
        "id": "xKp-4vDgkq8I"
      },
      "outputs": [],
      "source": [
        "samples = data.as_numpy_iterator()"
      ]
    },
    {
      "cell_type": "code",
      "execution_count": 271,
      "metadata": {
        "id": "MIhfjy2Ikq8I"
      },
      "outputs": [],
      "source": [
        "exampple = samples.next()"
      ]
    },
    {
      "cell_type": "code",
      "execution_count": 272,
      "metadata": {
        "id": "pa-InD3pkq8I",
        "outputId": "07d5312f-ce3a-4778-d7f7-d82f88db8f89",
        "tags": []
      },
      "outputs": [
        {
          "data": {
            "text/plain": [
              "(b'c:\\\\Users\\\\Usuario\\\\OneDrive\\\\Workplace\\\\Projects_2310\\\\Facial Verification with a Siamese Network\\\\data\\\\anchor\\\\6fb8d201-668a-11ee-9a37-f889d28655b2.jpg',\n",
              " b'c:\\\\Users\\\\Usuario\\\\OneDrive\\\\Workplace\\\\Projects_2310\\\\Facial Verification with a Siamese Network\\\\data\\\\positive\\\\a1fa938d-66a7-11ee-8791-f889d28655b2.jpg',\n",
              " 1.0)"
            ]
          },
          "execution_count": 272,
          "metadata": {},
          "output_type": "execute_result"
        }
      ],
      "source": [
        "exampple"
      ]
    },
    {
      "cell_type": "markdown",
      "metadata": {
        "id": "A4Y9n5qgkq8I"
      },
      "source": [
        "## Build Train and Test Partition"
      ]
    },
    {
      "cell_type": "code",
      "execution_count": 273,
      "metadata": {
        "id": "M3kRhR1Mkq8I"
      },
      "outputs": [],
      "source": [
        "def preprocess_twin(input_img, validation_img, label):\n",
        "    return(preprocess(input_img), preprocess(validation_img), label)"
      ]
    },
    {
      "cell_type": "code",
      "execution_count": 274,
      "metadata": {
        "id": "hf6fu-8vkq8I"
      },
      "outputs": [],
      "source": [
        "res = preprocess_twin(*exampple)"
      ]
    },
    {
      "cell_type": "code",
      "execution_count": 275,
      "metadata": {
        "id": "4kmc9ENHkq8J",
        "outputId": "62e17ded-04c4-45fb-e607-0fcaa379a225"
      },
      "outputs": [
        {
          "data": {
            "text/plain": [
              "<matplotlib.image.AxesImage at 0x299a81b5b90>"
            ]
          },
          "execution_count": 275,
          "metadata": {},
          "output_type": "execute_result"
        },
        {
          "data": {
            "image/png": "[encoded data removed]",
            "text/plain": [
              "<Figure size 640x480 with 1 Axes>"
            ]
          },
          "metadata": {},
          "output_type": "display_data"
        }
      ],
      "source": [
        "plt.imshow(res[1])"
      ]
    },
    {
      "cell_type": "code",
      "execution_count": 276,
      "metadata": {
        "id": "TQzuRjLkkq8J",
        "outputId": "9f60e6d9-c13a-478d-a6d4-1ba64cefd3be"
      },
      "outputs": [
        {
          "data": {
            "text/plain": [
              "1.0"
            ]
          },
          "execution_count": 276,
          "metadata": {},
          "output_type": "execute_result"
        }
      ],
      "source": [
        "res[2]"
      ]
    },
    {
      "cell_type": "code",
      "execution_count": 277,
      "metadata": {
        "id": "Rnei8tEskq8J"
      },
      "outputs": [],
      "source": [
        "# Build dataloader pipeline\n",
        "data = data.map(preprocess_twin)\n",
        "data = data.cache()\n",
        "data = data.shuffle(buffer_size=10000)"
      ]
    },
    {
      "cell_type": "code",
      "execution_count": 278,
      "metadata": {
        "id": "bi77jBWFkq8J"
      },
      "outputs": [],
      "source": [
        "# Training partition\n",
        "train_data = data.take(round(len(data)*.7))\n",
        "train_data = train_data.batch(16)\n",
        "train_data = train_data.prefetch(8)"
      ]
    },
    {
      "cell_type": "code",
      "execution_count": 279,
      "metadata": {
        "id": "WEl4-Li_kq8J"
      },
      "outputs": [],
      "source": [
        "# Testing partition\n",
        "test_data = data.skip(round(len(data)*.7))\n",
        "test_data = test_data.take(round(len(data)*.3))\n",
        "test_data = test_data.batch(16)\n",
        "test_data = test_data.prefetch(8)"
      ]
    },
    {
      "cell_type": "markdown",
      "metadata": {
        "id": "buv9DIrxkq8J"
      },
      "source": [
        "# Model "
      ]
    },
    {
      "cell_type": "markdown",
      "metadata": {
        "id": "IqmsWdrpkq8J"
      },
      "source": [
        "## Embedding Layer"
      ]
    },
    {
      "cell_type": "code",
      "execution_count": 280,
      "metadata": {
        "id": "gKdIG96fkq8J"
      },
      "outputs": [],
      "source": [
        "inp = Input(shape=(100,100,3), name='input_image')"
      ]
    },
    {
      "cell_type": "code",
      "execution_count": 281,
      "metadata": {
        "id": "MeWBQ8s-kq8J"
      },
      "outputs": [],
      "source": [
        "c1 = Conv2D(64, (10,10), activation='relu')(inp)"
      ]
    },
    {
      "cell_type": "code",
      "execution_count": 282,
      "metadata": {
        "id": "kQCZm6X8kq8J"
      },
      "outputs": [],
      "source": [
        "m1 = MaxPooling2D(64, (2,2), padding='same')(c1)"
      ]
    },
    {
      "cell_type": "code",
      "execution_count": 283,
      "metadata": {
        "id": "K9DCDkXbkq8K"
      },
      "outputs": [],
      "source": [
        "c2 = Conv2D(128, (7,7), activation='relu')(m1)\n",
        "m2 = MaxPooling2D(64, (2,2), padding='same')(c2)"
      ]
    },
    {
      "cell_type": "code",
      "execution_count": 284,
      "metadata": {
        "id": "M5k46LX2kq8K"
      },
      "outputs": [],
      "source": [
        "c3 = Conv2D(128, (4,4), activation='relu')(m2)\n",
        "m3 = MaxPooling2D(64, (2,2), padding='same')(c3)"
      ]
    },
    {
      "cell_type": "code",
      "execution_count": 285,
      "metadata": {
        "id": "yDZ6mVg3kq8K"
      },
      "outputs": [],
      "source": [
        "c4 = Conv2D(256, (4,4), activation='relu')(m3)\n",
        "f1 = Flatten()(c4)\n",
        "d1 = Dense(4096, activation='sigmoid')(f1)"
      ]
    },
    {
      "cell_type": "code",
      "execution_count": 286,
      "metadata": {
        "id": "AFbJdI1fkq8K"
      },
      "outputs": [],
      "source": [
        "mod = Model(inputs=[inp], outputs=[d1], name='embedding')"
      ]
    },
    {
      "cell_type": "code",
      "execution_count": 287,
      "metadata": {
        "id": "jCGWERVdkq8K",
        "outputId": "6dbe1802-a20a-43ae-9f56-4fc126cf1591"
      },
      "outputs": [
        {
          "name": "stdout",
          "output_type": "stream",
          "text": [
            "Model: \"embedding\"\n",
            "_________________________________________________________________\n",
            " Layer (type)                Output Shape              Param #   \n",
            "=================================================================\n",
            " input_image (InputLayer)    [(None, 100, 100, 3)]     0         \n",
            "                                                                 \n",
            " conv2d_8 (Conv2D)           (None, 91, 91, 64)        19264     \n",
            "                                                                 \n",
            " max_pooling2d_6 (MaxPooling  (None, 46, 46, 64)       0         \n",
            " 2D)                                                             \n",
            "                                                                 \n",
            " conv2d_9 (Conv2D)           (None, 40, 40, 128)       401536    \n",
            "                                                                 \n",
            " max_pooling2d_7 (MaxPooling  (None, 20, 20, 128)      0         \n",
            " 2D)                                                             \n",
            "                                                                 \n",
            " conv2d_10 (Conv2D)          (None, 17, 17, 128)       262272    \n",
            "                                                                 \n",
            " max_pooling2d_8 (MaxPooling  (None, 9, 9, 128)        0         \n",
            " 2D)                                                             \n",
            "                                                                 \n",
            " conv2d_11 (Conv2D)          (None, 6, 6, 256)         524544    \n",
            "                                                                 \n",
            " flatten_2 (Flatten)         (None, 9216)              0         \n",
            "                                                                 \n",
            " dense_4 (Dense)             (None, 4096)              37752832  \n",
            "                                                                 \n",
            "=================================================================\n",
            "Total params: 38,960,448\n",
            "Trainable params: 38,960,448\n",
            "Non-trainable params: 0\n",
            "_________________________________________________________________\n"
          ]
        }
      ],
      "source": [
        "mod.summary()"
      ]
    },
    {
      "cell_type": "code",
      "execution_count": 288,
      "metadata": {
        "id": "_SbOlA0Lkq8K"
      },
      "outputs": [],
      "source": [
        "def make_embedding():\n",
        "    inp = Input(shape=(100,100,3), name='input_image')\n",
        "\n",
        "    # First block\n",
        "    c1 = Conv2D(64, (10,10), activation='relu')(inp)\n",
        "    m1 = MaxPooling2D(64, (2,2), padding='same')(c1)\n",
        "\n",
        "    # Second block\n",
        "    c2 = Conv2D(128, (7,7), activation='relu')(m1)\n",
        "    m2 = MaxPooling2D(64, (2,2), padding='same')(c2)\n",
        "\n",
        "    # Third block\n",
        "    c3 = Conv2D(128, (4,4), activation='relu')(m2)\n",
        "    m3 = MaxPooling2D(64, (2,2), padding='same')(c3)\n",
        "\n",
        "    # Final embedding block\n",
        "    c4 = Conv2D(256, (4,4), activation='relu')(m3)\n",
        "    f1 = Flatten()(c4)\n",
        "    d1 = Dense(4096, activation='sigmoid')(f1)\n",
        "\n",
        "\n",
        "    return Model(inputs=[inp], outputs=[d1], name='embedding')"
      ]
    },
    {
      "cell_type": "code",
      "execution_count": 289,
      "metadata": {
        "id": "SczEV1Gqkq8K"
      },
      "outputs": [],
      "source": [
        "embedding = make_embedding()"
      ]
    },
    {
      "cell_type": "code",
      "execution_count": 290,
      "metadata": {
        "id": "yKae2m4hkq8K",
        "outputId": "9ea3931b-76c0-4a1f-c3d4-cd9ab6be82d7"
      },
      "outputs": [
        {
          "name": "stdout",
          "output_type": "stream",
          "text": [
            "Model: \"embedding\"\n",
            "_________________________________________________________________\n",
            " Layer (type)                Output Shape              Param #   \n",
            "=================================================================\n",
            " input_image (InputLayer)    [(None, 100, 100, 3)]     0         \n",
            "                                                                 \n",
            " conv2d_12 (Conv2D)          (None, 91, 91, 64)        19264     \n",
            "                                                                 \n",
            " max_pooling2d_9 (MaxPooling  (None, 46, 46, 64)       0         \n",
            " 2D)                                                             \n",
            "                                                                 \n",
            " conv2d_13 (Conv2D)          (None, 40, 40, 128)       401536    \n",
            "                                                                 \n",
            " max_pooling2d_10 (MaxPoolin  (None, 20, 20, 128)      0         \n",
            " g2D)                                                            \n",
            "                                                                 \n",
            " conv2d_14 (Conv2D)          (None, 17, 17, 128)       262272    \n",
            "                                                                 \n",
            " max_pooling2d_11 (MaxPoolin  (None, 9, 9, 128)        0         \n",
            " g2D)                                                            \n",
            "                                                                 \n",
            " conv2d_15 (Conv2D)          (None, 6, 6, 256)         524544    \n",
            "                                                                 \n",
            " flatten_3 (Flatten)         (None, 9216)              0         \n",
            "                                                                 \n",
            " dense_5 (Dense)             (None, 4096)              37752832  \n",
            "                                                                 \n",
            "=================================================================\n",
            "Total params: 38,960,448\n",
            "Trainable params: 38,960,448\n",
            "Non-trainable params: 0\n",
            "_________________________________________________________________\n"
          ]
        }
      ],
      "source": [
        "embedding.summary()"
      ]
    },
    {
      "cell_type": "markdown",
      "metadata": {
        "id": "L7kCbEPPkq8K"
      },
      "source": [
        "## Distance Layer"
      ]
    },
    {
      "cell_type": "code",
      "execution_count": 291,
      "metadata": {
        "id": "xR2KKCaRkq8L"
      },
      "outputs": [],
      "source": [
        "# Siamese L1 Distance class\n",
        "class L1Dist(Layer):\n",
        "\n",
        "    # Init method - inheritance\n",
        "    def __init__(self, **kwargs):\n",
        "        super().__init__()\n",
        "\n",
        "    # Magic happens here - similarity calculation\n",
        "    def call(self, input_embedding, validation_embedding):\n",
        "        return tf.math.abs(input_embedding - validation_embedding)"
      ]
    },
    {
      "cell_type": "code",
      "execution_count": 292,
      "metadata": {
        "id": "qn1SyV0Fkq8L"
      },
      "outputs": [],
      "source": [
        "l1 = L1Dist()"
      ]
    },
    {
      "cell_type": "markdown",
      "metadata": {
        "id": "_YfRQKBAkq8L"
      },
      "source": [
        "## Siamese Model"
      ]
    },
    {
      "cell_type": "code",
      "execution_count": 294,
      "metadata": {
        "id": "mllBPBvEkq8L"
      },
      "outputs": [],
      "source": [
        "input_image = Input(name='input_img', shape=(100,100,3))\n",
        "validation_image = Input(name='validation_img', shape=(100,100,3))"
      ]
    },
    {
      "cell_type": "code",
      "execution_count": 295,
      "metadata": {
        "id": "XexmGu7Ekq8L"
      },
      "outputs": [],
      "source": [
        "inp_embedding = embedding(input_image)\n",
        "val_embedding = embedding(validation_image)"
      ]
    },
    {
      "cell_type": "code",
      "execution_count": 296,
      "metadata": {
        "id": "zTt2Ou-ckq8L"
      },
      "outputs": [],
      "source": [
        "siamese_layer = L1Dist()"
      ]
    },
    {
      "cell_type": "code",
      "execution_count": 297,
      "metadata": {
        "id": "yKhWJJKHkq8L"
      },
      "outputs": [],
      "source": [
        "distances = siamese_layer(inp_embedding, val_embedding)"
      ]
    },
    {
      "cell_type": "code",
      "execution_count": 298,
      "metadata": {
        "id": "KjjfeHfEkq8L"
      },
      "outputs": [],
      "source": [
        "classifier = Dense(1, activation='sigmoid')(distances)"
      ]
    },
    {
      "cell_type": "code",
      "execution_count": 299,
      "metadata": {
        "id": "PbVRNGYBkq8M",
        "outputId": "63fd2cdb-df36-4238-c2c6-7360f13d9024"
      },
      "outputs": [
        {
          "data": {
            "text/plain": [
              "<KerasTensor: shape=(None, 1) dtype=float32 (created by layer 'dense_6')>"
            ]
          },
          "execution_count": 299,
          "metadata": {},
          "output_type": "execute_result"
        }
      ],
      "source": [
        "classifier"
      ]
    },
    {
      "cell_type": "code",
      "execution_count": 300,
      "metadata": {
        "id": "ahWbs5jFkq8M"
      },
      "outputs": [],
      "source": [
        "siamese_network = Model(inputs=[input_image, validation_image], outputs=classifier, name='SiameseNetwork')"
      ]
    },
    {
      "cell_type": "code",
      "execution_count": 301,
      "metadata": {
        "id": "TXDLeiTwkq8M",
        "outputId": "72e0740d-52bd-48fc-b89c-692d57c25cda"
      },
      "outputs": [
        {
          "name": "stdout",
          "output_type": "stream",
          "text": [
            "Model: \"SiameseNetwork\"\n",
            "__________________________________________________________________________________________________\n",
            " Layer (type)                   Output Shape         Param #     Connected to                     \n",
            "==================================================================================================\n",
            " input_img (InputLayer)         [(None, 100, 100, 3  0           []                               \n",
            "                                )]                                                                \n",
            "                                                                                                  \n",
            " validation_img (InputLayer)    [(None, 100, 100, 3  0           []                               \n",
            "                                )]                                                                \n",
            "                                                                                                  \n",
            " embedding (Functional)         (None, 4096)         38960448    ['input_img[0][0]',              \n",
            "                                                                  'validation_img[0][0]']         \n",
            "                                                                                                  \n",
            " l1_dist_5 (L1Dist)             (None, 4096)         0           ['embedding[0][0]',              \n",
            "                                                                  'embedding[1][0]']              \n",
            "                                                                                                  \n",
            " dense_6 (Dense)                (None, 1)            4097        ['l1_dist_5[0][0]']              \n",
            "                                                                                                  \n",
            "==================================================================================================\n",
            "Total params: 38,964,545\n",
            "Trainable params: 38,964,545\n",
            "Non-trainable params: 0\n",
            "__________________________________________________________________________________________________\n"
          ]
        }
      ],
      "source": [
        "siamese_network.summary()"
      ]
    },
    {
      "cell_type": "code",
      "execution_count": 302,
      "metadata": {
        "id": "Dbao8JFckq8M"
      },
      "outputs": [],
      "source": [
        "def make_siamese_model():\n",
        "\n",
        "    # Anchor image input in the network\n",
        "    input_image = Input(name='input_img', shape=(100,100,3))\n",
        "\n",
        "    # Validation image in the network\n",
        "    validation_image = Input(name='validation_img', shape=(100,100,3))\n",
        "\n",
        "    # Combine siamese distance components\n",
        "    siamese_layer = L1Dist()\n",
        "    siamese_layer._name = 'distance'\n",
        "    distances = siamese_layer(embedding(input_image), embedding(validation_image))\n",
        "\n",
        "    # Classification layer\n",
        "    classifier = Dense(1, activation='sigmoid')(distances)\n",
        "\n",
        "    return Model(inputs=[input_image, validation_image], outputs=classifier, name='SiameseNetwork')"
      ]
    },
    {
      "cell_type": "code",
      "execution_count": 303,
      "metadata": {
        "id": "d_ImWDJckq8M"
      },
      "outputs": [],
      "source": [
        "siamese_model = make_siamese_model()"
      ]
    },
    {
      "cell_type": "code",
      "execution_count": 304,
      "metadata": {
        "id": "dY9fahPJkq8M",
        "outputId": "95f2ce56-b450-48c5-bdac-ac3c32c4110c",
        "tags": []
      },
      "outputs": [
        {
          "name": "stdout",
          "output_type": "stream",
          "text": [
            "Model: \"SiameseNetwork\"\n",
            "__________________________________________________________________________________________________\n",
            " Layer (type)                   Output Shape         Param #     Connected to                     \n",
            "==================================================================================================\n",
            " input_img (InputLayer)         [(None, 100, 100, 3  0           []                               \n",
            "                                )]                                                                \n",
            "                                                                                                  \n",
            " validation_img (InputLayer)    [(None, 100, 100, 3  0           []                               \n",
            "                                )]                                                                \n",
            "                                                                                                  \n",
            " embedding (Functional)         (None, 4096)         38960448    ['input_img[0][0]',              \n",
            "                                                                  'validation_img[0][0]']         \n",
            "                                                                                                  \n",
            " distance (L1Dist)              (None, 4096)         0           ['embedding[2][0]',              \n",
            "                                                                  'embedding[3][0]']              \n",
            "                                                                                                  \n",
            " dense_7 (Dense)                (None, 1)            4097        ['distance[0][0]']               \n",
            "                                                                                                  \n",
            "==================================================================================================\n",
            "Total params: 38,964,545\n",
            "Trainable params: 38,964,545\n",
            "Non-trainable params: 0\n",
            "__________________________________________________________________________________________________\n"
          ]
        }
      ],
      "source": [
        "siamese_model.summary()"
      ]
    },
    {
      "cell_type": "markdown",
      "metadata": {
        "id": "48mfZLdtkq8M"
      },
      "source": [
        "# Training"
      ]
    },
    {
      "cell_type": "code",
      "execution_count": 305,
      "metadata": {
        "id": "Rm0BbOnGkq8N"
      },
      "outputs": [],
      "source": [
        "binary_cross_loss = tf.losses.BinaryCrossentropy()"
      ]
    },
    {
      "cell_type": "code",
      "execution_count": 306,
      "metadata": {
        "id": "qiqBK1Kgkq8N"
      },
      "outputs": [],
      "source": [
        "opt = tf.keras.optimizers.Adam(1e-4) # 0.0001"
      ]
    },
    {
      "cell_type": "code",
      "execution_count": 307,
      "metadata": {
        "id": "ZyRctXBekq8N"
      },
      "outputs": [],
      "source": [
        "checkpoint_dir = './training_checkpoints'\n",
        "checkpoint_prefix = os.path.join(checkpoint_dir, 'ckpt')\n",
        "checkpoint = tf.train.Checkpoint(opt=opt, siamese_model=siamese_model)"
      ]
    },
    {
      "cell_type": "code",
      "execution_count": 308,
      "metadata": {
        "id": "GnhvI0gqkq8N"
      },
      "outputs": [],
      "source": [
        "test_batch = train_data.as_numpy_iterator()"
      ]
    },
    {
      "cell_type": "code",
      "execution_count": 309,
      "metadata": {
        "id": "ObsFaMXpkq8N"
      },
      "outputs": [],
      "source": [
        "batch_1 = test_batch.next()"
      ]
    },
    {
      "cell_type": "code",
      "execution_count": 310,
      "metadata": {
        "id": "PqqJw_7Dkq8N"
      },
      "outputs": [],
      "source": [
        "X = batch_1[:2]"
      ]
    },
    {
      "cell_type": "code",
      "execution_count": 311,
      "metadata": {
        "id": "UOePiJzIkq8N"
      },
      "outputs": [],
      "source": [
        "y = batch_1[2]"
      ]
    },
    {
      "cell_type": "code",
      "execution_count": 312,
      "metadata": {
        "id": "Qnj7ze3Bkq8N",
        "outputId": "a98b2eaa-c074-4b5d-96c3-216902f26b3f"
      },
      "outputs": [
        {
          "data": {
            "text/plain": [
              "array([1., 1., 0., 1., 0., 1., 1., 1., 1., 0., 1., 0., 0., 1., 1., 0.],\n",
              "      dtype=float32)"
            ]
          },
          "execution_count": 312,
          "metadata": {},
          "output_type": "execute_result"
        }
      ],
      "source": [
        "y"
      ]
    },
    {
      "cell_type": "code",
      "execution_count": 314,
      "metadata": {
        "id": "7zpiQVQkkq8O",
        "tags": []
      },
      "outputs": [],
      "source": [
        "@tf.function\n",
        "def train_step(batch):\n",
        "\n",
        "    # Record all of our operations\n",
        "    with tf.GradientTape() as tape:\n",
        "        # Get anchor and positive/negative image\n",
        "        X = batch[:2]\n",
        "        # Get label\n",
        "        y = batch[2]\n",
        "\n",
        "        # Forward pass\n",
        "        yhat = siamese_model(X, training=True)\n",
        "        # Calculate loss\n",
        "        loss = binary_cross_loss(y, yhat)\n",
        "    print(loss)\n",
        "\n",
        "    # Calculate gradients\n",
        "    grad = tape.gradient(loss, siamese_model.trainable_variables)\n",
        "\n",
        "    # Calculate updated weights and apply to siamese model\n",
        "    opt.apply_gradients(zip(grad, siamese_model.trainable_variables))\n",
        "\n",
        "    # Return loss\n",
        "    return loss"
      ]
    },
    {
      "cell_type": "code",
      "execution_count": 315,
      "metadata": {
        "id": "Tdh0ZT8vkq8O"
      },
      "outputs": [],
      "source": [
        "# Import metric calculations\n",
        "from tensorflow.keras.metrics import Precision, Recall"
      ]
    },
    {
      "cell_type": "code",
      "execution_count": 316,
      "metadata": {
        "id": "6wD6ssBakq8O"
      },
      "outputs": [],
      "source": [
        "def train(data, EPOCHS):\n",
        "    # Loop through epochs\n",
        "    for epoch in range(1, EPOCHS+1):\n",
        "        print('\\n Epoch {}/{}'.format(epoch, EPOCHS))\n",
        "        progbar = tf.keras.utils.Progbar(len(data))\n",
        "\n",
        "        # Creating a metric object\n",
        "        r = Recall()\n",
        "        p = Precision()\n",
        "\n",
        "        # Loop through each batch\n",
        "        for idx, batch in enumerate(data):\n",
        "            # Run train step here\n",
        "            loss = train_step(batch)\n",
        "            yhat = siamese_model.predict(batch[:2])\n",
        "            r.update_state(batch[2], yhat)\n",
        "            p.update_state(batch[2], yhat)\n",
        "            progbar.update(idx+1)\n",
        "        print(loss.numpy(), r.result().numpy(), p.result().numpy())\n",
        "\n",
        "        # Save checkpoints\n",
        "        if epoch % 10 == 0:\n",
        "            checkpoint.save(file_prefix=checkpoint_prefix)"
      ]
    },
    {
      "cell_type": "markdown",
      "metadata": {
        "id": "BCUMi-Amkq8O"
      },
      "source": [
        "## Train the model"
      ]
    },
    {
      "cell_type": "code",
      "execution_count": 317,
      "metadata": {
        "id": "qsooUe4Jkq8O"
      },
      "outputs": [],
      "source": [
        "EPOCHS = 50"
      ]
    },
    {
      "cell_type": "code",
      "execution_count": 318,
      "metadata": {
        "id": "qJCfKQrYkq8O",
        "outputId": "ccc8e57b-a43a-44c4-9598-3fbd87bd961b",
        "scrolled": true,
        "tags": []
      },
      "outputs": [
        {
          "name": "stdout",
          "output_type": "stream",
          "text": [
            "\n",
            " Epoch 1/50\n",
            "Tensor(\"binary_crossentropy/weighted_loss/value:0\", shape=(), dtype=float32)\n",
            "Tensor(\"binary_crossentropy/weighted_loss/value:0\", shape=(), dtype=float32)\n"
          ]
        },
        {
          "name": "stdout",
          "output_type": "stream",
          "text": [
            "1/1 [==============================] - 3s 3s/step\n",
            "1/2 [==============>...............] - ETA: 36sTensor(\"binary_crossentropy/weighted_loss/value:0\", shape=(), dtype=float32)\n",
            "1/1 [==============================] - 3s 3s/step\n",
            "2/2 [==============================] - 64s 28s/step\n",
            "0.68366075 0.071428575 1.0\n",
            "\n",
            " Epoch 2/50\n",
            "1/1 [==============================] - 3s 3s/step\n",
            "1/1 [==============================] - 2s 2s/step\n",
            "2/2 [==============================] - 59s 24s/step\n",
            "0.5807873 0.0 0.0\n",
            "\n",
            " Epoch 3/50\n",
            "1/1 [==============================] - 3s 3s/step\n",
            "1/1 [==============================] - 3s 3s/step\n",
            "2/2 [==============================] - 56s 24s/step\n",
            "0.37302884 0.0 0.0\n",
            "\n",
            " Epoch 4/50\n",
            "1/1 [==============================] - 3s 3s/step\n",
            "1/1 [==============================] - 2s 2s/step\n",
            "2/2 [==============================] - 58s 22s/step\n",
            "0.6054254 0.0 0.0\n",
            "\n",
            " Epoch 5/50\n",
            "1/1 [==============================] - 3s 3s/step\n",
            "1/1 [==============================] - 2s 2s/step\n",
            "2/2 [==============================] - 50s 21s/step\n",
            "0.38708705 0.71428573 1.0\n",
            "\n",
            " Epoch 6/50\n",
            "1/1 [==============================] - 3s 3s/step\n",
            "1/1 [==============================] - 2s 2s/step\n",
            "2/2 [==============================] - 53s 22s/step\n",
            "0.3556566 1.0 1.0\n",
            "\n",
            " Epoch 7/50\n",
            "1/1 [==============================] - 3s 3s/step\n",
            "1/1 [==============================] - 2s 2s/step\n",
            "2/2 [==============================] - 51s 21s/step\n",
            "0.26986277 1.0 1.0\n",
            "\n",
            " Epoch 8/50\n",
            "1/1 [==============================] - 3s 3s/step\n",
            "1/1 [==============================] - 2s 2s/step\n",
            "2/2 [==============================] - 48s 18s/step\n",
            "0.17522393 1.0 1.0\n",
            "\n",
            " Epoch 9/50\n",
            "1/1 [==============================] - 3s 3s/step\n",
            "1/1 [==============================] - 2s 2s/step\n",
            "2/2 [==============================] - 45s 18s/step\n",
            "0.1657814 1.0 1.0\n",
            "\n",
            " Epoch 10/50\n",
            "1/1 [==============================] - 3s 3s/step\n",
            "1/1 [==============================] - 2s 2s/step\n",
            "2/2 [==============================] - 45s 19s/step\n",
            "0.15594472 1.0 1.0\n",
            "\n",
            " Epoch 11/50\n",
            "1/1 [==============================] - 2s 2s/step\n",
            "1/1 [==============================] - 2s 2s/step\n",
            "2/2 [==============================] - 42s 17s/step\n",
            "0.17577593 1.0 1.0\n",
            "\n",
            " Epoch 12/50\n",
            "1/1 [==============================] - 2s 2s/step\n",
            "1/1 [==============================] - 2s 2s/step\n",
            "2/2 [==============================] - 41s 17s/step\n",
            "0.107639335 1.0 1.0\n",
            "\n",
            " Epoch 13/50\n",
            "1/1 [==============================] - 3s 3s/step\n",
            "1/1 [==============================] - 2s 2s/step\n",
            "2/2 [==============================] - 42s 18s/step\n",
            "0.075237185 1.0 1.0\n",
            "\n",
            " Epoch 14/50\n",
            "1/1 [==============================] - 3s 3s/step\n",
            "1/1 [==============================] - 2s 2s/step\n",
            "2/2 [==============================] - 45s 18s/step\n",
            "0.06168095 1.0 1.0\n",
            "\n",
            " Epoch 15/50\n",
            "1/1 [==============================] - 3s 3s/step\n",
            "1/1 [==============================] - 2s 2s/step\n",
            "2/2 [==============================] - 49s 22s/step\n",
            "0.031597 1.0 1.0\n",
            "\n",
            " Epoch 16/50\n",
            "1/1 [==============================] - 3s 3s/step\n",
            "1/1 [==============================] - 2s 2s/step\n",
            "2/2 [==============================] - 64s 27s/step\n",
            "0.01333101 1.0 1.0\n",
            "\n",
            " Epoch 17/50\n",
            "1/1 [==============================] - 4s 4s/step\n",
            "1/1 [==============================] - 2s 2s/step\n",
            "2/2 [==============================] - 54s 22s/step\n",
            "0.02602601 1.0 1.0\n",
            "\n",
            " Epoch 18/50\n",
            "1/1 [==============================] - 3s 3s/step\n",
            "1/1 [==============================] - 2s 2s/step\n",
            "2/2 [==============================] - 52s 23s/step\n",
            "0.010480842 1.0 1.0\n",
            "\n",
            " Epoch 19/50\n",
            "1/1 [==============================] - 4s 4s/step\n",
            "1/1 [==============================] - 3s 3s/step\n",
            "2/2 [==============================] - 63s 32s/step\n",
            "0.002471593 1.0 1.0\n",
            "\n",
            " Epoch 20/50\n",
            "1/1 [==============================] - 3s 3s/step\n",
            "1/1 [==============================] - 2s 2s/step\n",
            "2/2 [==============================] - 58s 21s/step\n",
            "0.008173957 1.0 1.0\n",
            "\n",
            " Epoch 21/50\n",
            "1/1 [==============================] - 3s 3s/step\n",
            "1/1 [==============================] - 3s 3s/step\n",
            "2/2 [==============================] - 55s 23s/step\n",
            "0.0066192048 1.0 1.0\n",
            "\n",
            " Epoch 22/50\n",
            "1/1 [==============================] - 3s 3s/step\n",
            "1/1 [==============================] - 2s 2s/step\n",
            "2/2 [==============================] - 54s 22s/step\n",
            "0.010798327 1.0 1.0\n",
            "\n",
            " Epoch 23/50\n",
            "1/1 [==============================] - 5s 5s/step\n",
            "1/1 [==============================] - 3s 3s/step\n",
            "2/2 [==============================] - 72s 31s/step\n",
            "0.005946376 1.0 1.0\n",
            "\n",
            " Epoch 24/50\n",
            "1/1 [==============================] - 4s 4s/step\n",
            "1/1 [==============================] - 2s 2s/step\n",
            "2/2 [==============================] - 59s 23s/step\n",
            "0.00022666412 1.0 1.0\n",
            "\n",
            " Epoch 25/50\n",
            "1/1 [==============================] - 5s 5s/step\n",
            "1/1 [==============================] - 2s 2s/step\n",
            "2/2 [==============================] - 58s 24s/step\n",
            "0.0048824623 1.0 1.0\n",
            "\n",
            " Epoch 26/50\n",
            "1/1 [==============================] - 3s 3s/step\n",
            "1/1 [==============================] - 3s 3s/step\n",
            "2/2 [==============================] - 54s 26s/step\n",
            "0.0005887455 1.0 1.0\n",
            "\n",
            " Epoch 27/50\n",
            "1/1 [==============================] - 3s 3s/step\n",
            "1/1 [==============================] - 2s 2s/step\n",
            "2/2 [==============================] - 54s 19s/step\n",
            "0.00018422086 1.0 1.0\n",
            "\n",
            " Epoch 28/50\n",
            "1/1 [==============================] - 5s 5s/step\n",
            "1/1 [==============================] - 2s 2s/step\n",
            "2/2 [==============================] - 61s 25s/step\n",
            "0.000333884 1.0 1.0\n",
            "\n",
            " Epoch 29/50\n",
            "1/1 [==============================] - 3s 3s/step\n",
            "1/1 [==============================] - 2s 2s/step\n",
            "2/2 [==============================] - 60s 25s/step\n",
            "0.0014715249 1.0 1.0\n",
            "\n",
            " Epoch 30/50\n",
            "1/1 [==============================] - 3s 3s/step\n",
            "1/1 [==============================] - 2s 2s/step\n",
            "2/2 [==============================] - 57s 23s/step\n",
            "0.0034251115 1.0 1.0\n",
            "\n",
            " Epoch 31/50\n",
            "1/1 [==============================] - 4s 4s/step\n",
            "1/1 [==============================] - 3s 3s/step\n",
            "2/2 [==============================] - 64s 26s/step\n",
            "0.011189897 1.0 1.0\n",
            "\n",
            " Epoch 32/50\n",
            "1/1 [==============================] - 3s 3s/step\n",
            "1/1 [==============================] - 2s 2s/step\n",
            "2/2 [==============================] - 61s 24s/step\n",
            "0.013993473 1.0 1.0\n",
            "\n",
            " Epoch 33/50\n",
            "1/1 [==============================] - 3s 3s/step\n",
            "1/1 [==============================] - 3s 3s/step\n",
            "2/2 [==============================] - 62s 25s/step\n",
            "0.0013460984 1.0 1.0\n",
            "\n",
            " Epoch 34/50\n",
            "1/1 [==============================] - 3s 3s/step\n",
            "1/1 [==============================] - 2s 2s/step\n",
            "2/2 [==============================] - 61s 27s/step\n",
            "0.013361537 1.0 1.0\n",
            "\n",
            " Epoch 35/50\n",
            "1/1 [==============================] - 4s 4s/step\n",
            "1/1 [==============================] - 4s 4s/step\n",
            "2/2 [==============================] - 68s 29s/step\n",
            "0.0440244 1.0 1.0\n",
            "\n",
            " Epoch 36/50\n",
            "1/1 [==============================] - 3s 3s/step\n",
            "1/1 [==============================] - 3s 3s/step\n",
            "2/2 [==============================] - 65s 24s/step\n",
            "0.033941306 1.0 1.0\n",
            "\n",
            " Epoch 37/50\n",
            "1/1 [==============================] - 3s 3s/step\n",
            "1/1 [==============================] - 2s 2s/step\n",
            "2/2 [==============================] - 59s 25s/step\n",
            "0.0120360255 1.0 1.0\n",
            "\n",
            " Epoch 38/50\n",
            "1/1 [==============================] - 3s 3s/step\n",
            "1/1 [==============================] - 2s 2s/step\n",
            "2/2 [==============================] - 56s 21s/step\n",
            "0.01038462 1.0 1.0\n",
            "\n",
            " Epoch 39/50\n",
            "1/1 [==============================] - 3s 3s/step\n",
            "1/1 [==============================] - 2s 2s/step\n",
            "2/2 [==============================] - 54s 23s/step\n",
            "0.006151164 1.0 1.0\n",
            "\n",
            " Epoch 40/50\n",
            "1/1 [==============================] - 3s 3s/step\n",
            "1/1 [==============================] - 3s 3s/step\n",
            "2/2 [==============================] - 58s 22s/step\n",
            "0.00780787 1.0 1.0\n",
            "\n",
            " Epoch 41/50\n",
            "1/1 [==============================] - 4s 4s/step\n",
            "1/1 [==============================] - 3s 3s/step\n",
            "2/2 [==============================] - 68s 28s/step\n",
            "0.010436519 1.0 1.0\n",
            "\n",
            " Epoch 42/50\n",
            "1/1 [==============================] - 4s 4s/step\n",
            "1/1 [==============================] - 2s 2s/step\n",
            "2/2 [==============================] - 67s 25s/step\n",
            "0.01269314 1.0 1.0\n",
            "\n",
            " Epoch 43/50\n",
            "1/1 [==============================] - 3s 3s/step\n",
            "1/1 [==============================] - 2s 2s/step\n",
            "2/2 [==============================] - 53s 21s/step\n",
            "0.0033936051 1.0 1.0\n",
            "\n",
            " Epoch 44/50\n",
            "1/1 [==============================] - 3s 3s/step\n",
            "1/1 [==============================] - 2s 2s/step\n",
            "2/2 [==============================] - 52s 21s/step\n",
            "0.020234598 1.0 1.0\n",
            "\n",
            " Epoch 45/50\n",
            "1/1 [==============================] - 2s 2s/step\n",
            "1/1 [==============================] - 2s 2s/step\n",
            "2/2 [==============================] - 51s 20s/step\n",
            "0.008224591 1.0 1.0\n",
            "\n",
            " Epoch 46/50\n",
            "1/1 [==============================] - 2s 2s/step\n",
            "1/1 [==============================] - 2s 2s/step\n",
            "2/2 [==============================] - 44s 18s/step\n",
            "0.005027763 1.0 1.0\n",
            "\n",
            " Epoch 47/50\n",
            "1/1 [==============================] - 2s 2s/step\n",
            "1/1 [==============================] - 2s 2s/step\n",
            "2/2 [==============================] - 47s 19s/step\n",
            "0.006118216 1.0 1.0\n",
            "\n",
            " Epoch 48/50\n",
            "1/1 [==============================] - 2s 2s/step\n",
            "1/1 [==============================] - 2s 2s/step\n",
            "2/2 [==============================] - 49s 22s/step\n",
            "0.0025789079 1.0 1.0\n",
            "\n",
            " Epoch 49/50\n",
            "1/1 [==============================] - 4s 4s/step\n",
            "1/1 [==============================] - 2s 2s/step\n",
            "2/2 [==============================] - 66s 31s/step\n",
            "0.0045092124 1.0 1.0\n",
            "\n",
            " Epoch 50/50\n",
            "1/1 [==============================] - 2s 2s/step\n",
            "1/1 [==============================] - 2s 2s/step\n",
            "2/2 [==============================] - 44s 17s/step\n",
            "0.0034505024 1.0 1.0\n"
          ]
        }
      ],
      "source": [
        "train(train_data, EPOCHS)"
      ]
    },
    {
      "cell_type": "markdown",
      "metadata": {
        "id": "Ypbp3Oc9kq8O",
        "tags": []
      },
      "source": [
        "# Evaluate Model"
      ]
    },
    {
      "cell_type": "markdown",
      "metadata": {
        "id": "fsWmRDTAkq8O"
      },
      "source": [
        "## Import Metrics"
      ]
    },
    {
      "cell_type": "code",
      "execution_count": 319,
      "metadata": {
        "id": "3sHSkjSMkq8O"
      },
      "outputs": [],
      "source": [
        "# Import metric calculations\n",
        "from tensorflow.keras.metrics import Precision, Recall"
      ]
    },
    {
      "cell_type": "markdown",
      "metadata": {
        "id": "_iwh4xJhkq8O"
      },
      "source": [
        "## Predictions"
      ]
    },
    {
      "cell_type": "code",
      "execution_count": 320,
      "metadata": {
        "id": "xA9q3dfUkq8P"
      },
      "outputs": [],
      "source": [
        "# Get a batch of test data\n",
        "test_input, test_val, y_true = test_data.as_numpy_iterator().next()"
      ]
    },
    {
      "cell_type": "code",
      "execution_count": 321,
      "metadata": {
        "id": "aiqeP6ggkq8P",
        "tags": []
      },
      "outputs": [
        {
          "name": "stdout",
          "output_type": "stream",
          "text": [
            "1/1 [==============================] - 3s 3s/step\n"
          ]
        }
      ],
      "source": [
        "y_hat = siamese_model.predict([test_input, test_val])"
      ]
    },
    {
      "cell_type": "code",
      "execution_count": 322,
      "metadata": {
        "id": "fkHxDd34kq8P",
        "outputId": "21e4ecda-dbad-4dd6-a8fe-e0eb75c0144d",
        "tags": []
      },
      "outputs": [
        {
          "data": {
            "text/plain": [
              "[0, 1, 0, 1, 1, 0, 0, 1, 0, 1, 0]"
            ]
          },
          "execution_count": 322,
          "metadata": {},
          "output_type": "execute_result"
        }
      ],
      "source": [
        "# Post processing the results\n",
        "[1 if prediction > 0.5 else 0 for prediction in y_hat ]"
      ]
    },
    {
      "cell_type": "code",
      "execution_count": 323,
      "metadata": {
        "id": "BS5GagsSkq8P",
        "outputId": "a7153f33-1198-4f17-ff55-c440c5c3ab19",
        "tags": []
      },
      "outputs": [
        {
          "data": {
            "text/plain": [
              "array([0., 1., 0., 1., 1., 0., 0., 1., 0., 1., 0.], dtype=float32)"
            ]
          },
          "execution_count": 323,
          "metadata": {},
          "output_type": "execute_result"
        }
      ],
      "source": [
        "y_true"
      ]
    },
    {
      "cell_type": "markdown",
      "metadata": {
        "id": "ODdqFtPbkq8P"
      },
      "source": [
        "##Calculate Metrics"
      ]
    },
    {
      "cell_type": "code",
      "execution_count": 324,
      "metadata": {
        "id": "qJSTMDuEkq8P",
        "outputId": "50ec9d13-61b5-4bf3-fcb4-6b23c6bd1437"
      },
      "outputs": [
        {
          "data": {
            "text/plain": [
              "1.0"
            ]
          },
          "execution_count": 324,
          "metadata": {},
          "output_type": "execute_result"
        }
      ],
      "source": [
        "# Creating a metric object\n",
        "m = Recall()\n",
        "\n",
        "# Calculating the recall value\n",
        "m.update_state(y_true, y_hat)\n",
        "\n",
        "# Return Recall Result\n",
        "m.result().numpy()"
      ]
    },
    {
      "cell_type": "code",
      "execution_count": 325,
      "metadata": {
        "id": "eHo7Ree6kq8P",
        "outputId": "16ced674-2d40-4ef3-9ce6-bfc3413addaf"
      },
      "outputs": [
        {
          "data": {
            "text/plain": [
              "1.0"
            ]
          },
          "execution_count": 325,
          "metadata": {},
          "output_type": "execute_result"
        }
      ],
      "source": [
        "# Creating a metric object\n",
        "m = Precision()\n",
        "\n",
        "# Calculating the recall value\n",
        "m.update_state(y_true, y_hat)\n",
        "\n",
        "# Return Recall Result\n",
        "m.result().numpy()"
      ]
    },
    {
      "cell_type": "code",
      "execution_count": 326,
      "metadata": {
        "id": "_jUewh6Tkq8P",
        "outputId": "5441bff2-701d-4d82-f9a0-b7a034ce6095"
      },
      "outputs": [
        {
          "name": "stdout",
          "output_type": "stream",
          "text": [
            "1/1 [==============================] - 3s 3s/step\n",
            "1.0 1.0\n"
          ]
        }
      ],
      "source": [
        "r = Recall()\n",
        "p = Precision()\n",
        "\n",
        "for test_input, test_val, y_true in test_data.as_numpy_iterator():\n",
        "    yhat = siamese_model.predict([test_input, test_val])\n",
        "    r.update_state(y_true, yhat)\n",
        "    p.update_state(y_true,yhat)\n",
        "\n",
        "print(r.result().numpy(), p.result().numpy())"
      ]
    },
    {
      "cell_type": "markdown",
      "metadata": {
        "id": "sbGiV4CHkq8P"
      },
      "source": [
        "## Results visualization"
      ]
    },
    {
      "cell_type": "code",
      "execution_count": 327,
      "metadata": {
        "id": "RgmhrhODkq8Q",
        "outputId": "d398c5ec-74c1-4e80-fbff-8ee4b0e13e4c"
      },
      "outputs": [
        {
          "data": {
            "image/png": "[encoded data removed]",
            "text/plain": [
              "<Figure size 1000x800 with 2 Axes>"
            ]
          },
          "metadata": {},
          "output_type": "display_data"
        }
      ],
      "source": [
        "# Set plot size\n",
        "plt.figure(figsize=(10,8))\n",
        "\n",
        "# Set first subplot\n",
        "plt.subplot(1,2,1)\n",
        "plt.imshow(test_input[0])\n",
        "\n",
        "# Set second subplot\n",
        "plt.subplot(1,2,2)\n",
        "plt.imshow(test_val[0])\n",
        "\n",
        "# Renders cleanly\n",
        "plt.show()"
      ]
    },
    {
      "cell_type": "markdown",
      "metadata": {
        "id": "WQI7HPC7kq8Q"
      },
      "source": [
        "# Save Model"
      ]
    },
    {
      "cell_type": "code",
      "execution_count": 328,
      "metadata": {
        "id": "FgG6-NN0kq8Q"
      },
      "outputs": [
        {
          "name": "stdout",
          "output_type": "stream",
          "text": [
            "WARNING:tensorflow:Compiled the loaded model, but the compiled metrics have yet to be built. `model.compile_metrics` will be empty until you train or evaluate the model.\n"
          ]
        }
      ],
      "source": [
        "# Save weights\n",
        "siamese_model.save('siamesemodelv2.h5')"
      ]
    },
    {
      "cell_type": "code",
      "execution_count": 329,
      "metadata": {
        "id": "tzCAw0Qukq8Q"
      },
      "outputs": [
        {
          "data": {
            "text/plain": [
              "__main__.L1Dist"
            ]
          },
          "execution_count": 329,
          "metadata": {},
          "output_type": "execute_result"
        }
      ],
      "source": [
        "L1Dist"
      ]
    },
    {
      "cell_type": "code",
      "execution_count": 330,
      "metadata": {
        "id": "kb3T-Hlbkq8Q",
        "outputId": "695fb464-8a3a-4cac-d932-b44be3ce4931"
      },
      "outputs": [
        {
          "name": "stdout",
          "output_type": "stream",
          "text": [
            "WARNING:tensorflow:No training configuration found in the save file, so the model was *not* compiled. Compile it manually.\n"
          ]
        }
      ],
      "source": [
        "# Reload model\n",
        "siamese_model = tf.keras.models.load_model('siamesemodelv2.h5',\n",
        "                                   custom_objects={'L1Dist':L1Dist, 'BinaryCrossentropy':tf.losses.BinaryCrossentropy})"
      ]
    },
    {
      "cell_type": "code",
      "execution_count": 331,
      "metadata": {
        "id": "IliLvdTQkq8Q",
        "outputId": "9e934120-a9ce-4db4-f327-0132e6832ff5"
      },
      "outputs": [
        {
          "name": "stdout",
          "output_type": "stream",
          "text": [
            "1/1 [==============================] - 3s 3s/step\n"
          ]
        },
        {
          "data": {
            "text/plain": [
              "array([[3.4388126e-08],\n",
              "       [4.1633569e-10],\n",
              "       [9.9999982e-01],\n",
              "       [2.4383613e-09],\n",
              "       [1.1924850e-10],\n",
              "       [9.9999535e-01],\n",
              "       [2.0628910e-10],\n",
              "       [9.9751657e-01],\n",
              "       [5.7630340e-09],\n",
              "       [9.8797828e-01],\n",
              "       [9.9985790e-01]], dtype=float32)"
            ]
          },
          "execution_count": 331,
          "metadata": {},
          "output_type": "execute_result"
        }
      ],
      "source": [
        "# Make predictions with reloaded model\n",
        "siamese_model.predict([test_input, test_val])"
      ]
    },
    {
      "cell_type": "code",
      "execution_count": 332,
      "metadata": {
        "id": "Ut_ZXJbxkq8Q",
        "outputId": "29a7ff30-421f-493d-a238-072a91e71166"
      },
      "outputs": [
        {
          "name": "stdout",
          "output_type": "stream",
          "text": [
            "Model: \"SiameseNetwork\"\n",
            "__________________________________________________________________________________________________\n",
            " Layer (type)                   Output Shape         Param #     Connected to                     \n",
            "==================================================================================================\n",
            " input_img (InputLayer)         [(None, 100, 100, 3  0           []                               \n",
            "                                )]                                                                \n",
            "                                                                                                  \n",
            " validation_img (InputLayer)    [(None, 100, 100, 3  0           []                               \n",
            "                                )]                                                                \n",
            "                                                                                                  \n",
            " embedding (Functional)         (None, 4096)         38960448    ['input_img[0][0]',              \n",
            "                                                                  'validation_img[0][0]']         \n",
            "                                                                                                  \n",
            " l1_dist_7 (L1Dist)             (None, 4096)         0           ['embedding[0][0]',              \n",
            "                                                                  'embedding[1][0]']              \n",
            "                                                                                                  \n",
            " dense_7 (Dense)                (None, 1)            4097        ['l1_dist_7[0][0]']              \n",
            "                                                                                                  \n",
            "==================================================================================================\n",
            "Total params: 38,964,545\n",
            "Trainable params: 38,964,545\n",
            "Non-trainable params: 0\n",
            "__________________________________________________________________________________________________\n"
          ]
        }
      ],
      "source": [
        "# View model summary\n",
        "siamese_model.summary()"
      ]
    },
    {
      "cell_type": "markdown",
      "metadata": {
        "id": "7-yL9Evhkq8Q"
      },
      "source": [
        "# Real Time Test"
      ]
    },
    {
      "cell_type": "code",
      "execution_count": 336,
      "metadata": {
        "id": "kF6GNpHfkq8R"
      },
      "outputs": [
        {
          "data": {
            "text/plain": [
              "['07aa937b-668a-11ee-98f8-f889d28655b2.jpg',\n",
              " '7430ef7c-668a-11ee-bd38-f889d28655b2.jpg',\n",
              " '7432dc46-668a-11ee-86bc-f889d28655b2.jpg',\n",
              " '74333fbd-668a-11ee-8e3c-f889d28655b2.jpg',\n",
              " '7433a5d4-668a-11ee-8c16-f889d28655b2.jpg',\n",
              " '7433a5d5-668a-11ee-840a-f889d28655b2.jpg',\n",
              " '74342ec9-668a-11ee-9085-f889d28655b2.jpg',\n",
              " '743442cc-668a-11ee-bafb-f889d28655b2.jpg',\n",
              " '7434b54e-668a-11ee-88ee-f889d28655b2.jpg',\n",
              " '743503ba-668a-11ee-851a-f889d28655b2.jpg',\n",
              " 'a11ad09f-66a7-11ee-b313-f889d28655b2.jpg',\n",
              " 'a13cfaeb-66a7-11ee-90e2-f889d28655b2.jpg',\n",
              " 'a13da2cf-66a7-11ee-9b6d-f889d28655b2.jpg',\n",
              " 'a13e427d-66a7-11ee-8ad0-f889d28655b2.jpg',\n",
              " 'a13f1e67-66a7-11ee-9556-f889d28655b2.jpg',\n",
              " 'a13fbc87-66a7-11ee-8d4e-f889d28655b2.jpg',\n",
              " 'a1760c70-66a7-11ee-be68-f889d28655b2.jpg',\n",
              " 'a18b3dd1-66a7-11ee-b9b1-f889d28655b2.jpg',\n",
              " 'a18bc792-66a7-11ee-86c0-f889d28655b2.jpg',\n",
              " 'a18c1758-66a7-11ee-97ee-f889d28655b2.jpg',\n",
              " 'a1a8c94d-66a7-11ee-849d-f889d28655b2.jpg',\n",
              " 'a1a97ced-66a7-11ee-929b-f889d28655b2.jpg',\n",
              " 'a1aa3180-66a7-11ee-89b5-f889d28655b2.jpg',\n",
              " 'a1aacc5b-66a7-11ee-89cc-f889d28655b2.jpg',\n",
              " 'a1ab3898-66a7-11ee-ab04-f889d28655b2.jpg',\n",
              " 'a1abd5d7-66a7-11ee-905e-f889d28655b2.jpg',\n",
              " 'a1ae2aaa-66a7-11ee-ba49-f889d28655b2.jpg',\n",
              " 'a1af029a-66a7-11ee-b855-f889d28655b2.jpg',\n",
              " 'a1afaefa-66a7-11ee-9a9a-f889d28655b2.jpg',\n",
              " 'a1d703a2-66a7-11ee-b22a-f889d28655b2.jpg',\n",
              " 'a1d7bd4c-66a7-11ee-9162-f889d28655b2.jpg',\n",
              " 'a1d85c41-66a7-11ee-8c49-f889d28655b2.jpg',\n",
              " 'a1d8f9e0-66a7-11ee-9096-f889d28655b2.jpg',\n",
              " 'a1d98622-66a7-11ee-af8c-f889d28655b2.jpg',\n",
              " 'a1da394b-66a7-11ee-b2cf-f889d28655b2.jpg',\n",
              " 'a1dabb8b-66a7-11ee-9293-f889d28655b2.jpg',\n",
              " 'a1db73a3-66a7-11ee-9976-f889d28655b2.jpg',\n",
              " 'a1dbe8d0-66a7-11ee-99c4-f889d28655b2.jpg',\n",
              " 'a1f5c168-66a7-11ee-ae7c-f889d28655b2.jpg',\n",
              " 'a1f67eb5-66a7-11ee-a822-f889d28655b2.jpg',\n",
              " 'a1f7097e-66a7-11ee-83ac-f889d28655b2.jpg',\n",
              " 'a1f7876a-66a7-11ee-a2a0-f889d28655b2.jpg',\n",
              " 'a1f84e4d-66a7-11ee-9de4-f889d28655b2.jpg',\n",
              " 'a1f91206-66a7-11ee-b67f-f889d28655b2.jpg',\n",
              " 'a1f9a560-66a7-11ee-a8da-f889d28655b2.jpg',\n",
              " 'a1f9f5a4-66a7-11ee-b9ee-f889d28655b2.jpg',\n",
              " 'a1fa938d-66a7-11ee-8791-f889d28655b2.jpg',\n",
              " 'a2154c8f-66a7-11ee-aaa6-f889d28655b2.jpg',\n",
              " 'a2299e67-66a7-11ee-b6c2-f889d28655b2.jpg',\n",
              " 'a2436fb3-66a7-11ee-bc24-f889d28655b2.jpg']"
            ]
          },
          "execution_count": 336,
          "metadata": {},
          "output_type": "execute_result"
        }
      ],
      "source": [
        "os.listdir(os.path.join('application_data', 'verification_images'))"
      ]
    },
    {
      "cell_type": "code",
      "execution_count": 337,
      "metadata": {
        "id": "Cc7gmXQPkq8R"
      },
      "outputs": [
        {
          "data": {
            "text/plain": [
              "'application_data\\\\input_image\\\\input_image.jpg'"
            ]
          },
          "execution_count": 337,
          "metadata": {},
          "output_type": "execute_result"
        }
      ],
      "source": [
        "os.path.join('application_data', 'input_image', 'input_image.jpg')"
      ]
    },
    {
      "cell_type": "code",
      "execution_count": 338,
      "metadata": {
        "id": "a96vy2Bgkq8R"
      },
      "outputs": [
        {
          "name": "stdout",
          "output_type": "stream",
          "text": [
            "application_data\\verification_images\\07aa937b-668a-11ee-98f8-f889d28655b2.jpg\n",
            "application_data\\verification_images\\7430ef7c-668a-11ee-bd38-f889d28655b2.jpg\n",
            "application_data\\verification_images\\7432dc46-668a-11ee-86bc-f889d28655b2.jpg\n",
            "application_data\\verification_images\\74333fbd-668a-11ee-8e3c-f889d28655b2.jpg\n",
            "application_data\\verification_images\\7433a5d4-668a-11ee-8c16-f889d28655b2.jpg\n",
            "application_data\\verification_images\\7433a5d5-668a-11ee-840a-f889d28655b2.jpg\n",
            "application_data\\verification_images\\74342ec9-668a-11ee-9085-f889d28655b2.jpg\n",
            "application_data\\verification_images\\743442cc-668a-11ee-bafb-f889d28655b2.jpg\n",
            "application_data\\verification_images\\7434b54e-668a-11ee-88ee-f889d28655b2.jpg\n",
            "application_data\\verification_images\\743503ba-668a-11ee-851a-f889d28655b2.jpg\n",
            "application_data\\verification_images\\a11ad09f-66a7-11ee-b313-f889d28655b2.jpg\n",
            "application_data\\verification_images\\a13cfaeb-66a7-11ee-90e2-f889d28655b2.jpg\n",
            "application_data\\verification_images\\a13da2cf-66a7-11ee-9b6d-f889d28655b2.jpg\n",
            "application_data\\verification_images\\a13e427d-66a7-11ee-8ad0-f889d28655b2.jpg\n",
            "application_data\\verification_images\\a13f1e67-66a7-11ee-9556-f889d28655b2.jpg\n",
            "application_data\\verification_images\\a13fbc87-66a7-11ee-8d4e-f889d28655b2.jpg\n",
            "application_data\\verification_images\\a1760c70-66a7-11ee-be68-f889d28655b2.jpg\n",
            "application_data\\verification_images\\a18b3dd1-66a7-11ee-b9b1-f889d28655b2.jpg\n",
            "application_data\\verification_images\\a18bc792-66a7-11ee-86c0-f889d28655b2.jpg\n",
            "application_data\\verification_images\\a18c1758-66a7-11ee-97ee-f889d28655b2.jpg\n",
            "application_data\\verification_images\\a1a8c94d-66a7-11ee-849d-f889d28655b2.jpg\n",
            "application_data\\verification_images\\a1a97ced-66a7-11ee-929b-f889d28655b2.jpg\n",
            "application_data\\verification_images\\a1aa3180-66a7-11ee-89b5-f889d28655b2.jpg\n",
            "application_data\\verification_images\\a1aacc5b-66a7-11ee-89cc-f889d28655b2.jpg\n",
            "application_data\\verification_images\\a1ab3898-66a7-11ee-ab04-f889d28655b2.jpg\n",
            "application_data\\verification_images\\a1abd5d7-66a7-11ee-905e-f889d28655b2.jpg\n",
            "application_data\\verification_images\\a1ae2aaa-66a7-11ee-ba49-f889d28655b2.jpg\n",
            "application_data\\verification_images\\a1af029a-66a7-11ee-b855-f889d28655b2.jpg\n",
            "application_data\\verification_images\\a1afaefa-66a7-11ee-9a9a-f889d28655b2.jpg\n",
            "application_data\\verification_images\\a1d703a2-66a7-11ee-b22a-f889d28655b2.jpg\n",
            "application_data\\verification_images\\a1d7bd4c-66a7-11ee-9162-f889d28655b2.jpg\n",
            "application_data\\verification_images\\a1d85c41-66a7-11ee-8c49-f889d28655b2.jpg\n",
            "application_data\\verification_images\\a1d8f9e0-66a7-11ee-9096-f889d28655b2.jpg\n",
            "application_data\\verification_images\\a1d98622-66a7-11ee-af8c-f889d28655b2.jpg\n",
            "application_data\\verification_images\\a1da394b-66a7-11ee-b2cf-f889d28655b2.jpg\n",
            "application_data\\verification_images\\a1dabb8b-66a7-11ee-9293-f889d28655b2.jpg\n",
            "application_data\\verification_images\\a1db73a3-66a7-11ee-9976-f889d28655b2.jpg\n",
            "application_data\\verification_images\\a1dbe8d0-66a7-11ee-99c4-f889d28655b2.jpg\n",
            "application_data\\verification_images\\a1f5c168-66a7-11ee-ae7c-f889d28655b2.jpg\n",
            "application_data\\verification_images\\a1f67eb5-66a7-11ee-a822-f889d28655b2.jpg\n",
            "application_data\\verification_images\\a1f7097e-66a7-11ee-83ac-f889d28655b2.jpg\n",
            "application_data\\verification_images\\a1f7876a-66a7-11ee-a2a0-f889d28655b2.jpg\n",
            "application_data\\verification_images\\a1f84e4d-66a7-11ee-9de4-f889d28655b2.jpg\n",
            "application_data\\verification_images\\a1f91206-66a7-11ee-b67f-f889d28655b2.jpg\n",
            "application_data\\verification_images\\a1f9a560-66a7-11ee-a8da-f889d28655b2.jpg\n",
            "application_data\\verification_images\\a1f9f5a4-66a7-11ee-b9ee-f889d28655b2.jpg\n",
            "application_data\\verification_images\\a1fa938d-66a7-11ee-8791-f889d28655b2.jpg\n",
            "application_data\\verification_images\\a2154c8f-66a7-11ee-aaa6-f889d28655b2.jpg\n",
            "application_data\\verification_images\\a2299e67-66a7-11ee-b6c2-f889d28655b2.jpg\n",
            "application_data\\verification_images\\a2436fb3-66a7-11ee-bc24-f889d28655b2.jpg\n"
          ]
        }
      ],
      "source": [
        "for image in os.listdir(os.path.join('application_data', 'verification_images')):\n",
        "    validation_img = os.path.join('application_data', 'verification_images', image)\n",
        "    print(validation_img)"
      ]
    },
    {
      "cell_type": "code",
      "execution_count": 339,
      "metadata": {
        "id": "8rw95aHOkq8R"
      },
      "outputs": [],
      "source": [
        "def verify(model, detection_threshold, verification_threshold):\n",
        "    # Build results array\n",
        "    results = []\n",
        "    for image in os.listdir(os.path.join('application_data', 'verification_images')):\n",
        "        input_img = preprocess(os.path.join('application_data', 'input_image', 'input_image.jpg'))\n",
        "        validation_img = preprocess(os.path.join('application_data', 'verification_images', image))\n",
        "\n",
        "        # Make Predictions\n",
        "        result = model.predict(list(np.expand_dims([input_img, validation_img], axis=1)))\n",
        "        results.append(result)\n",
        "\n",
        "    # Detection Threshold: Metric above which a prediciton is considered positive\n",
        "    detection = np.sum(np.array(results) > detection_threshold)\n",
        "\n",
        "    # Verification Threshold: Proportion of positive predictions / total positive samples\n",
        "    verification = detection / len(os.listdir(os.path.join('application_data', 'verification_images')))\n",
        "    verified = verification > verification_threshold\n",
        "\n",
        "    return results, verified"
      ]
    },
    {
      "cell_type": "markdown",
      "metadata": {
        "id": "dr4MjRyekq8R"
      },
      "source": [
        "## OpenCV Real Time Verification"
      ]
    },
    {
      "cell_type": "code",
      "execution_count": 345,
      "metadata": {
        "id": "oeVpYgllkq8R",
        "outputId": "074ff68a-c7fb-4b85-bd0e-dd9055b6b1de"
      },
      "outputs": [
        {
          "name": "stdout",
          "output_type": "stream",
          "text": [
            "1/1 [==============================] - 0s 186ms/step\n",
            "1/1 [==============================] - 0s 197ms/step\n",
            "1/1 [==============================] - 0s 213ms/step\n",
            "1/1 [==============================] - 0s 219ms/step\n",
            "1/1 [==============================] - 0s 220ms/step\n",
            "1/1 [==============================] - 0s 196ms/step\n",
            "1/1 [==============================] - 0s 335ms/step\n",
            "1/1 [==============================] - 0s 305ms/step\n",
            "1/1 [==============================] - 0s 196ms/step\n",
            "1/1 [==============================] - 0s 241ms/step\n",
            "1/1 [==============================] - 0s 205ms/step\n",
            "1/1 [==============================] - 0s 346ms/step\n",
            "1/1 [==============================] - 0s 248ms/step\n",
            "1/1 [==============================] - 0s 212ms/step\n",
            "1/1 [==============================] - 0s 192ms/step\n",
            "1/1 [==============================] - 0s 187ms/step\n",
            "1/1 [==============================] - 0s 234ms/step\n",
            "1/1 [==============================] - 0s 188ms/step\n",
            "1/1 [==============================] - 0s 226ms/step\n",
            "1/1 [==============================] - 0s 236ms/step\n",
            "1/1 [==============================] - 0s 190ms/step\n",
            "1/1 [==============================] - 0s 191ms/step\n",
            "1/1 [==============================] - 0s 190ms/step\n",
            "1/1 [==============================] - 0s 197ms/step\n",
            "1/1 [==============================] - 0s 228ms/step\n",
            "1/1 [==============================] - 0s 192ms/step\n",
            "1/1 [==============================] - 0s 232ms/step\n",
            "1/1 [==============================] - 0s 201ms/step\n",
            "1/1 [==============================] - 0s 198ms/step\n",
            "1/1 [==============================] - 0s 219ms/step\n",
            "1/1 [==============================] - 0s 207ms/step\n",
            "1/1 [==============================] - 0s 218ms/step\n",
            "1/1 [==============================] - 0s 229ms/step\n",
            "1/1 [==============================] - 0s 189ms/step\n",
            "1/1 [==============================] - 0s 209ms/step\n",
            "1/1 [==============================] - 0s 181ms/step\n",
            "1/1 [==============================] - 0s 187ms/step\n",
            "1/1 [==============================] - 0s 205ms/step\n",
            "1/1 [==============================] - 0s 195ms/step\n",
            "1/1 [==============================] - 0s 217ms/step\n",
            "1/1 [==============================] - 0s 184ms/step\n",
            "1/1 [==============================] - 0s 184ms/step\n",
            "1/1 [==============================] - 0s 196ms/step\n",
            "1/1 [==============================] - 0s 209ms/step\n",
            "1/1 [==============================] - 0s 183ms/step\n",
            "1/1 [==============================] - 0s 203ms/step\n",
            "1/1 [==============================] - 0s 184ms/step\n",
            "1/1 [==============================] - 0s 232ms/step\n",
            "1/1 [==============================] - 0s 184ms/step\n",
            "1/1 [==============================] - 0s 182ms/step\n",
            "False\n"
          ]
        }
      ],
      "source": [
        "cap = cv2.VideoCapture(0)\n",
        "while cap.isOpened():\n",
        "    ret, frame = cap.read()\n",
        "    frame = frame[120:120+250,200:200+250, :]\n",
        "\n",
        "    cv2.imshow('Verification', frame)\n",
        "\n",
        "    # Verification trigger\n",
        "    if cv2.waitKey(10) & 0xFF == ord('v'):\n",
        "        # Save input image to application_data/input_image folder\n",
        "#         hsv = cv2.cvtColor(frame, cv2.COLOR_BGR2HSV)\n",
        "#         h, s, v = cv2.split(hsv)\n",
        "\n",
        "#         lim = 255 - 10\n",
        "#         v[v > lim] = 255\n",
        "#         v[v <= lim] -= 10\n",
        "\n",
        "#         final_hsv = cv2.merge((h, s, v))\n",
        "#         img = cv2.cvtColor(final_hsv, cv2.COLOR_HSV2BGR)\n",
        "\n",
        "        cv2.imwrite(os.path.join('application_data', 'input_image', 'input_image.jpg'), frame)\n",
        "        # Run verification\n",
        "        results, verified = verify(siamese_model, 0.5, 0.5)\n",
        "        print(verified)\n",
        "\n",
        "    if cv2.waitKey(10) & 0xFF == ord('q'):\n",
        "        break\n",
        "cap.release()\n",
        "cv2.destroyAllWindows()"
      ]
    },
    {
      "cell_type": "code",
      "execution_count": 346,
      "metadata": {
        "id": "qj5Kkhxlkq8S",
        "outputId": "e1513817-c229-4411-e4c9-b9418b554ea4"
      },
      "outputs": [
        {
          "data": {
            "text/plain": [
              "1"
            ]
          },
          "execution_count": 346,
          "metadata": {},
          "output_type": "execute_result"
        }
      ],
      "source": [
        "np.sum(np.squeeze(results) > 0.9)"
      ]
    },
    {
      "cell_type": "code",
      "execution_count": 347,
      "metadata": {
        "id": "4CzMB37dkq8S",
        "outputId": "5cd1e34c-71df-4c10-ba92-8b15ccab7c76"
      },
      "outputs": [
        {
          "data": {
            "text/plain": [
              "[array([[8.6455174e-07]], dtype=float32),\n",
              " array([[9.838302e-08]], dtype=float32),\n",
              " array([[7.274747e-08]], dtype=float32),\n",
              " array([[2.765268e-07]], dtype=float32),\n",
              " array([[1.9000149e-06]], dtype=float32),\n",
              " array([[1.2444243e-05]], dtype=float32),\n",
              " array([[1.0060452e-05]], dtype=float32),\n",
              " array([[6.326895e-05]], dtype=float32),\n",
              " array([[0.00346468]], dtype=float32),\n",
              " array([[0.03775587]], dtype=float32),\n",
              " array([[0.11029258]], dtype=float32),\n",
              " array([[7.1711064e-08]], dtype=float32),\n",
              " array([[7.4306755e-08]], dtype=float32),\n",
              " array([[1.2882376e-07]], dtype=float32),\n",
              " array([[8.8356046e-07]], dtype=float32),\n",
              " array([[3.4352086e-06]], dtype=float32),\n",
              " array([[0.26399347]], dtype=float32),\n",
              " array([[3.0809265e-06]], dtype=float32),\n",
              " array([[1.7599972e-05]], dtype=float32),\n",
              " array([[0.00011763]], dtype=float32),\n",
              " array([[3.55669e-06]], dtype=float32),\n",
              " array([[0.00049392]], dtype=float32),\n",
              " array([[0.00716543]], dtype=float32),\n",
              " array([[0.06529644]], dtype=float32),\n",
              " array([[0.05090306]], dtype=float32),\n",
              " array([[0.52746266]], dtype=float32),\n",
              " array([[0.476025]], dtype=float32),\n",
              " array([[0.8763643]], dtype=float32),\n",
              " array([[0.80696803]], dtype=float32),\n",
              " array([[0.00021858]], dtype=float32),\n",
              " array([[0.00013686]], dtype=float32),\n",
              " array([[0.00187292]], dtype=float32),\n",
              " array([[0.09788538]], dtype=float32),\n",
              " array([[0.0786758]], dtype=float32),\n",
              " array([[0.38178018]], dtype=float32),\n",
              " array([[0.6733571]], dtype=float32),\n",
              " array([[0.83472276]], dtype=float32),\n",
              " array([[0.92123234]], dtype=float32),\n",
              " array([[5.9060858e-05]], dtype=float32),\n",
              " array([[0.00198477]], dtype=float32),\n",
              " array([[0.0094394]], dtype=float32),\n",
              " array([[0.13445163]], dtype=float32),\n",
              " array([[0.1421717]], dtype=float32),\n",
              " array([[0.45420477]], dtype=float32),\n",
              " array([[0.6081944]], dtype=float32),\n",
              " array([[0.8268002]], dtype=float32),\n",
              " array([[0.89242965]], dtype=float32),\n",
              " array([[0.89281124]], dtype=float32),\n",
              " array([[0.00648784]], dtype=float32),\n",
              " array([[0.27347267]], dtype=float32)]"
            ]
          },
          "execution_count": 347,
          "metadata": {},
          "output_type": "execute_result"
        }
      ],
      "source": [
        "results"
      ]
    },
    {
      "cell_type": "code",
      "execution_count": null,
      "metadata": {
        "id": "lK4S9qMxkq8S"
      },
      "outputs": [],
      "source": []
    }
  ],
  "metadata": {
    "accelerator": "GPU",
    "colab": {
      "gpuType": "T4",
      "provenance": []
    },
    "kernelspec": {
      "display_name": "faceid",
      "language": "python",
      "name": "faceid"
    },
    "language_info": {
      "codemirror_mode": {
        "name": "ipython",
        "version": 3
      },
      "file_extension": ".py",
      "mimetype": "text/x-python",
      "name": "python",
      "nbconvert_exporter": "python",
      "pygments_lexer": "ipython3",
      "version": "3.7.3"
    }
  },
  "nbformat": 4,
  "nbformat_minor": 0
}
